{
 "cells": [
  {
   "cell_type": "raw",
   "metadata": {},
   "source": [
    "# My project takes a message from a user and either encrypts or decrypts it using a randomly generated key. It also has a feature available that allows the message to be sent back after being encrypted to an email of the user's choice."
   ]
  },
  {
   "cell_type": "raw",
   "metadata": {},
   "source": [
    "Included are six functions...\n",
    "    choose\n",
    "    encode\n",
    "    decode\n",
    "    randomize\n",
    "    sending_email\n",
    "    sending_fake_email\n",
    "    checking_message\n",
    "    checking_email\n",
    "    checking_randomizer"
   ]
  },
  {
   "cell_type": "raw",
   "metadata": {},
   "source": [
    "Choose function:\n",
    "    \n",
    "        This function asks the user if he/she would like to encode or decode their message. It takes this input and calls a function (either encode or decode) based on their answer. It then requests the message that they wish to encrypt, stores it as a string, and uses it as a parameter in either the encode or decode function. \n",
    "        If it's using the encode function, it then uses a key from the randomize function and returns a message that is encrpted.\n",
    "        If it's using the decode function, it asks the user for a key. It then uses this input as a parameter for the decode function and returns a message that is encrypted.\n",
    "        \n",
    "Parameters:\n",
    "decision - user input to the statement \"Enter 1 if you wish to encode or 2 if you wish to decode\"\n",
    "enckey - a key used in the encryption process if the encode option is chosen"
   ]
  },
  {
   "cell_type": "raw",
   "metadata": {},
   "source": [
    "Randomize function:\n",
    "    \n",
    "    This function picks a random integer between 1 and 99 and stores it as a \"key.\" This serves as the value used to encode a function before sending it. This key also allows for the message to later be decoded.\n",
    "    \n",
    "Parameters: None"
   ]
  },
  {
   "cell_type": "raw",
   "metadata": {},
   "source": [
    "Encode function:\n",
    "\n",
    "    This function uses the built-in functions of chr() and ord() to alter a message. This is done by taking each character in the entire message and changing it to a numerical value using ord(). Then the key, an integer provided as a parameter, is added to each of these values. Following this, each of these numerical values are then changed back to string form using the ord() function. This individually alters each character to form a new message which is returned at the end of the function.\n",
    "    \n",
    "Parameters: \n",
    "mess - message that the user wishes to encode\n",
    "key - integer value derived from the key function"
   ]
  },
  {
   "cell_type": "raw",
   "metadata": {},
   "source": [
    "Decode function:\n",
    "\n",
    "    This function uses the built-in functions of chr() and ord() to alter a message. This is done by taking each character in the entire message and changing it to a numerical value using ord(). Then the key, an integer provided as a parameter, is subtracted to each of these values. Following this, each of these numerical values are then changed back to string form using the ord() function. This individually alters each character to form the original message (before it was encoded) which is returned at the end of the function.\n",
    "    \n",
    "Parameters: \n",
    "mess - message that the user wishes to encode\n",
    "key - integer value"
   ]
  },
  {
   "cell_type": "raw",
   "metadata": {},
   "source": [
    "Sending email function:\n",
    "\n",
    "    This function utilizes modified outside code from https://realpython.com/python-send-email/ to send an email from an account of choice (with an accepted password) including a message of choice. For the purpose of this project, the message would either be encoded or decoded.\n",
    "    *** While this function can be used to really send an email instead of simply printing it, it involved putting in the user's password and changing security settings on your actual email account. For this reason, another function is available that simply prints what the email would look like.\n",
    "    \n",
    "Parameters:\n",
    "mess - encoded or decoded message that the user wishes to send in a real email\n",
    "key - the key used to either encode or decode the email (in the case that the recipient would want to either respond\n",
    "    with another message or decode the message they recieve themselves)"
   ]
  },
  {
   "cell_type": "raw",
   "metadata": {},
   "source": [
    "Sending fake email function:\n",
    "\n",
    "    As there are many adjustments that may not be the safest for the integrity of your actual email account, this function exists to simply print out the content of the email as it would appear in an email. It users user input on the recipient of the email and prints the recipient, the message, and the key used ONLY if the email entered is valid.\n",
    "    \n",
    "Parameters:\n",
    "mess - encoded or decoded message that the user wishes to send in a real email\n",
    "key - the key used to either encode or decode the email"
   ]
  },
  {
   "cell_type": "raw",
   "metadata": {},
   "source": [
    "Checking Message function:\n",
    "\n",
    "    This function first decides whether the message is already encoded or decoded based on the value of the decision parameter entered by the user at the beginning of the program. \n",
    "    If decision = 1, the message is encoded and thus it runs the decode function using mess as the parameter to be decoded and then prints out the decoded message. \n",
    "    If decision = 2, the message is decoded and thus it runs the encode function using mess as the parameter to be encoded and then print out the encoded message.\n",
    "    In both cases, this allows the user to see if the message printed is the same as the content of the message the user wished to encode.\n",
    "\n",
    "Parameters:\n",
    "decision - numerical value (1 or 2) from user at the beginning of the program telling whether the message is encoded\n",
    "    or decoded\n",
    "key - key used to encode or decode the message\n",
    "mess - message user wishes to check is encrypted properly"
   ]
  },
  {
   "cell_type": "raw",
   "metadata": {},
   "source": [
    "Checking Email function:\n",
    "\n",
    "    This function takes an email and checks if its valid but looping through the string for the presence of an '@'. Since a wider database cannot be accessed to check for validity this is the best option to check if a valid email is being entered by the user. This test is conducted within the \"Sending Fake Email\" function.\n",
    "\n",
    "Parameters:\n",
    "email - the email wishing to be checked by the function"
   ]
  },
  {
   "cell_type": "raw",
   "metadata": {},
   "source": [
    "Checking Randomizer function:\n",
    "    \n",
    "    This function takes the key generated by the randomization function and checks if it is within the boundaries of 1 and 99. If it is not, it returns an error message.\n",
    "    \n",
    "Parameters:\n",
    "key - integer generated by the randomization function"
   ]
  },
  {
   "cell_type": "code",
   "execution_count": null,
   "metadata": {},
   "outputs": [],
   "source": [
    "# main function\n",
    "choice = input(\"Enter 1 to encode or 2 to decode...\")\n",
    "key = randomizer()\n",
    "check_randomizer(key)\n",
    "print('Decision: ' + choice)\n",
    "content = choose(decision, key)\n",
    "sending_fake_email(content, key)"
   ]
  }
 ],
 "metadata": {
  "kernelspec": {
   "display_name": "Python 3",
   "language": "python",
   "name": "python3"
  },
  "language_info": {
   "codemirror_mode": {
    "name": "ipython",
    "version": 3
   },
   "file_extension": ".py",
   "mimetype": "text/x-python",
   "name": "python",
   "nbconvert_exporter": "python",
   "pygments_lexer": "ipython3",
   "version": "3.6.7"
  }
 },
 "nbformat": 4,
 "nbformat_minor": 2
}
